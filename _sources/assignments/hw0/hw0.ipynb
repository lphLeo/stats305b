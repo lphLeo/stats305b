{
 "cells": [
  {
   "cell_type": "markdown",
   "metadata": {
    "id": "f2LuWOislHde"
   },
   "source": [
    "# HW0: PyTorch Primer\n",
    "\n",
    "STATS305B, Stanford University, Winter 2024\n",
    "\n",
    "**Your name:**\n",
    "\n",
    "**Collaborators:**\n",
    "\n",
    "**Hours spent:**\n",
    "\n",
    "Please let us know how many hours in total you spent on this assignment so we can calibrate for future assignments. Your feedback is always welcome!\n",
    "\n",
    "-----\n",
    "\n",
    "We'll use Python and [PyTorch](https://pytorch.org/) for the assignments in this course. This lab is to help you get up to speed. It will introduce:\n",
    "- **Tensors**: PyTorch's equivalent of NumPy arrays, but with more bells and whistles for running on GPUs and supporting automatic differentiation.\n",
    "- **Broadcasting and Fancy Indexing**: If you're coming from Matlab or NumPy, you probably know that you can avoid costly for-loops by broadcasting computation over dimensions of an array (here, tensor) and using fancy indexing tricks.\n",
    "- **Distributions**: PyTorch has an excellent library of distributions for sampling, evaluating log probabilities, and much more.\n"
   ]
  },
  {
   "cell_type": "code",
   "execution_count": null,
   "metadata": {
    "id": "wgK10D1dlHdg"
   },
   "outputs": [],
   "source": [
    "import torch\n",
    "import torch.distributions as dist\n",
    "import matplotlib.pyplot as plt"
   ]
  },
  {
   "cell_type": "markdown",
   "metadata": {
    "id": "AbFmp6aBlHdg"
   },
   "source": [
    "## 1. Constructing Tensors\n",
    "\n",
    "Tensors are PyTorch's equivalent of NumPy arrays. The PyTorch documentation already has a [great tutorial](https://pytorch.org/tutorials/beginner/basics/tensorqs_tutorial.html) on tensors. Rather than recreate the wheel, please start by reading that.\n",
    "\n",
    "Once you've read through that, try using torch functions like `arange`, `reshape`, etc. to construct the following tensors."
   ]
  },
  {
   "cell_type": "markdown",
   "metadata": {
    "id": "HIXtZ1USlHdg"
   },
   "source": [
    "### Problem 1.1\n",
    "\n",
    "Construct the following tensor:\n",
    "\n",
    "```\n",
    "tensor([[0, 1, 2],\n",
    "        [3, 4, 5],\n",
    "        [6, 7, 8]])\n",
    "```\n",
    "\n",
    "_Note: For this problems and the ones below, don't literally construct the tensor from the specified list. Use torch functions._\n",
    "\n",
    "---"
   ]
  },
  {
   "cell_type": "code",
   "execution_count": null,
   "metadata": {
    "id": "AkDSn-kJlHdh"
   },
   "outputs": [],
   "source": [
    "# YOUR CODE HERE"
   ]
  },
  {
   "cell_type": "markdown",
   "metadata": {
    "id": "VkYZGlOIlHdh"
   },
   "source": [
    "### Problem 1.2\n",
    "\n",
    "Construct the following tensor:\n",
    "\n",
    "```\n",
    "tensor([[0, 3, 6],\n",
    "        [1, 4, 7],\n",
    "        [2, 5, 8]])\n",
    "```\n",
    "\n",
    "---"
   ]
  },
  {
   "cell_type": "code",
   "execution_count": null,
   "metadata": {
    "id": "atnlEcr_lHdh"
   },
   "outputs": [],
   "source": [
    "# YOUR CODE HERE"
   ]
  },
  {
   "cell_type": "markdown",
   "metadata": {
    "id": "AuMEY4v2lHdh"
   },
   "source": [
    "### Problem 1.3\n",
    "\n",
    "Construct the following tensor:\n",
    "\n",
    "```\n",
    "tensor([0, 1, 2, 3, 4, 0, 1, 2, 3, 4, 0, 1, 2, 3, 4])\n",
    "```\n",
    "\n",
    "_Note: Here the sequence is repeated 3 times. Does your code support arbitrary numbers of repeats?_\n",
    "\n",
    "---"
   ]
  },
  {
   "cell_type": "code",
   "execution_count": null,
   "metadata": {
    "id": "qrQQec3klHdi"
   },
   "outputs": [],
   "source": [
    "# YOUR CODE HERE"
   ]
  },
  {
   "cell_type": "markdown",
   "metadata": {
    "id": "3HmYerFPlHdi"
   },
   "source": [
    "### Problem 1.4\n",
    "\n",
    "Construct the following tensor:\n",
    "\n",
    "```\n",
    "tensor([[0, 1, 2, 3, 4],\n",
    "        [0, 1, 2, 3, 4],\n",
    "        [0, 1, 2, 3, 4]])\n",
    "```\n",
    "\n",
    "---"
   ]
  },
  {
   "cell_type": "code",
   "execution_count": null,
   "metadata": {
    "id": "EyeQxMQslHdi"
   },
   "outputs": [],
   "source": [
    "# YOUR CODE HERE"
   ]
  },
  {
   "cell_type": "markdown",
   "metadata": {
    "id": "kjn57o76lHdi"
   },
   "source": [
    "### Problem 1.5\n",
    "\n",
    "Construct the following tensor:\n",
    "\n",
    "```\n",
    "tensor([[ 1., -2.,  0.,  0.],\n",
    "        [-2.,  1., -2.,  0.],\n",
    "        [ 0., -2.,  1., -2.],\n",
    "        [ 0.,  0., -2.,  1.]])\n",
    "```\n",
    "\n",
    "---"
   ]
  },
  {
   "cell_type": "code",
   "execution_count": null,
   "metadata": {
    "id": "kNVO1_phlHdi"
   },
   "outputs": [],
   "source": [
    "# YOUR CODE HERE"
   ]
  },
  {
   "cell_type": "markdown",
   "metadata": {
    "id": "rY92gTM8lHdi"
   },
   "source": [
    "### Problem 1.6\n",
    "\n",
    "Construct the following tensor:\n",
    "\n",
    "```\n",
    "tensor([[[[0, 1, 2]]]])\n",
    "```\n",
    "\n",
    "---"
   ]
  },
  {
   "cell_type": "code",
   "execution_count": null,
   "metadata": {
    "id": "o0IUohU4lHdi"
   },
   "outputs": [],
   "source": [
    "# YOUR CODE HERE"
   ]
  },
  {
   "cell_type": "markdown",
   "metadata": {
    "id": "fFAV3VC_lHdi"
   },
   "source": [
    "## 2. Broadcasting and Fancy Indexing\n",
    "\n",
    "Your life will be much easier and your code will be much faster once you get the hang of broadcasting and indexing. Start by reading the  [PyTorch documentation](https://pytorch.org/docs/stable/notes/broadcasting.html)."
   ]
  },
  {
   "cell_type": "markdown",
   "metadata": {
    "id": "R9u8vbgNlHdi"
   },
   "source": [
    "### Problem 2.1\n",
    "\n",
    "Construct a tensor `X` where `X[i,j] = i + j` by broadcasting a sum of two 1-dimensional tensors.\n",
    "\n",
    "For example, broadcast a sum to construct the following tensor,\n",
    "\n",
    "```\n",
    "tensor([[0, 1, 2],\n",
    "        [1, 2, 3],\n",
    "        [2, 3, 4],\n",
    "        [3, 4, 5]])\n",
    "```        \n",
    "\n",
    "---"
   ]
  },
  {
   "cell_type": "code",
   "execution_count": null,
   "metadata": {
    "id": "IulV8PmNlHdi"
   },
   "outputs": [],
   "source": [
    "# YOUR CODE HERE"
   ]
  },
  {
   "cell_type": "markdown",
   "metadata": {
    "id": "VaNBlKoclHdi"
   },
   "source": [
    "### Problem 2.2\n",
    "\n",
    "Compute a distance matrix `D` where `D[i,j]` is the Euclidean distance between `X[i]` and `X[j]`, with\n",
    "\n",
    "```\n",
    "X = torch.arange(10, dtype=float).reshape(5, 2)\n",
    "```\n",
    "\n",
    "Your answer should be,\n",
    "\n",
    "```\n",
    "tensor([[ 0.0000,  2.8284,  5.6569,  8.4853, 11.3137],\n",
    "        [ 2.8284,  0.0000,  2.8284,  5.6569,  8.4853],\n",
    "        [ 5.6569,  2.8284,  0.0000,  2.8284,  5.6569],\n",
    "        [ 8.4853,  5.6569,  2.8284,  0.0000,  2.8284],\n",
    "        [11.3137,  8.4853,  5.6569,  2.8284,  0.0000]])\n",
    "```        \n",
    "\n",
    "---"
   ]
  },
  {
   "cell_type": "code",
   "execution_count": null,
   "metadata": {
    "id": "4DxNCrailHdi"
   },
   "outputs": [],
   "source": [
    "X = torch.arange(10, dtype=float).reshape(5, 2)\n",
    "# YOUR CODE HERE"
   ]
  },
  {
   "cell_type": "markdown",
   "metadata": {
    "id": "rlPKXPyLlHdj"
   },
   "source": [
    "### Problem 2.3\n",
    "\n",
    "Extract the submatrix of rows `[2,3]` and columns `[0,1,4]` of the tensor,\n",
    "```\n",
    "A = torch.arange(25).reshape(5, 5)\n",
    "```\n",
    "\n",
    "Your answer should be,\n",
    "```\n",
    "tensor([[10, 11, 14],\n",
    "        [15, 16, 19]])\n",
    "```\n",
    "\n",
    "---"
   ]
  },
  {
   "cell_type": "code",
   "execution_count": null,
   "metadata": {
    "id": "WZhOgQlblHdj"
   },
   "outputs": [],
   "source": [
    "A = torch.arange(25).reshape(5, 5)\n",
    "# YOUR CODE HERE"
   ]
  },
  {
   "cell_type": "markdown",
   "metadata": {
    "id": "4SoFdLi6lHdj"
   },
   "source": [
    "### Problem 2.4\n",
    "\n",
    "Create a binary mask matrix `M` of the same shape as `A` where `M[i,j]` is True if and only if `A[i,j]` is divisible by 7. Let\n",
    "\n",
    "```\n",
    "A = torch.arange(25).reshape(5, 5)\n",
    "```\n",
    "\n",
    "Your answer should be\n",
    "\n",
    "```\n",
    "tensor([[ True, False, False, False, False],\n",
    "        [False, False,  True, False, False],\n",
    "        [False, False, False, False,  True],\n",
    "        [False, False, False, False, False],\n",
    "        [False,  True, False, False, False]])\n",
    "```\n",
    "\n",
    "---"
   ]
  },
  {
   "cell_type": "code",
   "execution_count": null,
   "metadata": {
    "id": "WFGVn78xlHdj"
   },
   "outputs": [],
   "source": [
    "A = torch.arange(25).reshape(5, 5)\n",
    "# YOUR CODE HERE"
   ]
  },
  {
   "cell_type": "markdown",
   "metadata": {
    "id": "QcLI2riXlHdj"
   },
   "source": [
    "### Problem 2.5\n",
    "\n",
    "Add one to the entries in `A` that are divisible by 7. After updating in place, `A` should be,\n",
    "\n",
    "```\n",
    "tensor([[ 1,  1,  2,  3,  4],\n",
    "        [ 5,  6,  8,  8,  9],\n",
    "        [10, 11, 12, 13, 15],\n",
    "        [15, 16, 17, 18, 19],\n",
    "        [20, 22, 22, 23, 24]])\n",
    "```\n",
    "\n",
    "---"
   ]
  },
  {
   "cell_type": "code",
   "execution_count": null,
   "metadata": {
    "id": "VgyrcFnelHdj"
   },
   "outputs": [],
   "source": [
    "# YOUR CODE HERE"
   ]
  },
  {
   "cell_type": "markdown",
   "metadata": {
    "id": "tngx_Bv3lHdj"
   },
   "source": [
    "## 3. Distributions\n",
    "\n",
    "PyTorch has an excellent library of distributions in `torch.distributions`. Read the docs [here](https://pytorch.org/docs/stable/distributions.html).\n",
    "\n",
    "We will use these distribution objects to construct and fit a Poisson mixture model."
   ]
  },
  {
   "cell_type": "markdown",
   "metadata": {
    "id": "PVoQ94HolHdj"
   },
   "source": [
    "### Problem 3.1\n",
    "\n",
    "Draw 50 samples from a Poisson distribution with rate 10.\n",
    "\n",
    "---"
   ]
  },
  {
   "cell_type": "code",
   "execution_count": null,
   "metadata": {
    "id": "qcuVf1jWlHdj"
   },
   "outputs": [],
   "source": [
    "# YOUR CODE HERE"
   ]
  },
  {
   "cell_type": "markdown",
   "metadata": {
    "id": "ETf-galklHdj"
   },
   "source": [
    "### Problem 3.2\n",
    "\n",
    "One of the awesome thing about PyTorch distributions is that they support broadcasting too.\n",
    "\n",
    "Construct a matrix `P` where `P[i,j]` equals $\\mathrm{Pois}(x=j; \\lambda=i)$ for $i=0,\\ldots,4$ and $j=0,\\ldots,4$.\n",
    "\n",
    "Your answer should be,\n",
    "```\n",
    "tensor([[1.0000, 0.0000, 0.0000, 0.0000, 0.0000],\n",
    "        [0.3679, 0.3679, 0.1839, 0.0613, 0.0153],\n",
    "        [0.1353, 0.2707, 0.2707, 0.1804, 0.0902],\n",
    "        [0.0498, 0.1494, 0.2240, 0.2240, 0.1680],\n",
    "        [0.0183, 0.0733, 0.1465, 0.1954, 0.1954]])\n",
    "```\n",
    "\n",
    "---"
   ]
  },
  {
   "cell_type": "code",
   "execution_count": null,
   "metadata": {
    "id": "AmroSD-ulHdj"
   },
   "outputs": [],
   "source": [
    "# YOUR CODE HERE"
   ]
  },
  {
   "cell_type": "markdown",
   "metadata": {
    "id": "fDVVHezVlHdj"
   },
   "source": [
    "### Problem 3.3\n",
    "\n",
    "Evaluate the log probability of the points `[1.5, 3., 4.2]` under a gamma distribution with shape (aka concentration) 2.0 and inverse scale (aka rate) 1.5.\n",
    "\n",
    "Your answer should be,\n",
    "\n",
    "```\n",
    "tensor([-1.0336, -2.5905, -4.0540])\n",
    "```\n",
    "\n",
    "---"
   ]
  },
  {
   "cell_type": "code",
   "execution_count": null,
   "metadata": {
    "id": "CKB4ca3nlHdj"
   },
   "outputs": [],
   "source": [
    "# YOUR CODE HERE"
   ]
  },
  {
   "cell_type": "markdown",
   "metadata": {
    "id": "zjppoA_SlHdj"
   },
   "source": [
    "### Problem 3.4\n",
    "\n",
    "Draw 1000 samples from a Poisson mixture model,\n",
    "\n",
    "$$\n",
    "\\begin{align*}\n",
    "p(x) &= \\frac{1}{2} \\mathrm{Pois}(10.0) + \\frac{1}{2} \\mathrm{Pois}(2.0)\n",
    "\\end{align*}\n",
    "$$\n",
    "\n",
    "Use `matplotlib.pyplot.hist` to plot a normalized histogram of the samples.\n",
    "\n",
    "---"
   ]
  },
  {
   "cell_type": "code",
   "execution_count": null,
   "metadata": {
    "id": "fiyJDqMolHdj"
   },
   "outputs": [],
   "source": [
    "# YOUR CODE HERE\n",
    "# data = ..."
   ]
  },
  {
   "cell_type": "markdown",
   "metadata": {
    "id": "HiatKD4LlHdj"
   },
   "source": [
    "## 4. PyTorch Distributions"
   ]
  },
  {
   "cell_type": "markdown",
   "metadata": {
    "id": "5jRVLyHZlHdj"
   },
   "source": [
    "### Problem 4.1\n",
    "\n",
    "Use `dist.Normal` to draw a batch of shape `(100, 4)` independent standard normal random variables."
   ]
  },
  {
   "cell_type": "code",
   "execution_count": null,
   "metadata": {
    "id": "lW2GIKE6lHdj"
   },
   "outputs": [],
   "source": [
    "# YOUR CODE HERE"
   ]
  },
  {
   "cell_type": "markdown",
   "metadata": {
    "id": "JSEkrZWGlHdj"
   },
   "source": [
    "### Problem 4.2\n",
    "\n",
    "Use `dist.Normal` to draw a batch independent normal random variables with shape `(5,5)`, variance 1.0, and means\n",
    "\n",
    "```\n",
    "tensor([[ 0,  1,  2,  3,  4],\n",
    "        [ 5,  6,  8,  8,  9],\n",
    "        [10, 11, 12, 13, 15],\n",
    "        [15, 16, 17, 18, 19],\n",
    "        [20, 22, 22, 23, 24]])\n",
    "```"
   ]
  },
  {
   "cell_type": "code",
   "execution_count": null,
   "metadata": {
    "id": "onXPXJKhlHdn"
   },
   "outputs": [],
   "source": [
    "# YOUR CODE HERE"
   ]
  },
  {
   "cell_type": "markdown",
   "metadata": {
    "id": "pU0Mw02jlhfn"
   },
   "source": [
    "## 5. Debugging\n",
    "\n",
    "\"If debugging is the process of removing bugs, then programming must be the process of putting them in.\" -Edsger Dijkstra\n",
    "\n",
    "![\"How I got better at debugging\" by Julia Evans](https://wizardzines.com/images/uploads/better-at-debugging.png)\n",
    "\n",
    "Debugging is an important skill in applied statistics that we will hone in this class. The following exercises will introduce you to useful python debugging tools and techniques.\n",
    "\n",
    "![\"If you understand a bug, you can fix it\" by Julia Evans](https://wizardzines.com/images/uploads/understand-can-fix.png)\n",
    "\n",
    "In particular, we will focus on giving you some tools that let you more directly interrogate what is happening in a code snippet. Hopefully, learning how to understand what is going on in a given code snippet will replace feelingness of powerlessness when encountering an inscrutable bug with confidence, mastery, and knowledge.\n",
    "\n"
   ]
  },
  {
   "cell_type": "markdown",
   "metadata": {
    "id": "0sDF8uz8o8N_"
   },
   "source": [
    "### Problem 5.1: sleuthing with `type`, `shape`, and `dir`\n",
    "\n",
    "Many python bugs effectively arise from errors in grammar---trying to apply functions to objects in ways that don't make sense based on the type or shape of the object.\n",
    "\n",
    "For example, in English, you can't say: \"I enjoy to beautiful the park,\" because you have put an adjective (\"beautiful\") where a verb belongs. In a similar way, you can't evalaute the python expression `\"number:\" + 7`, because the `+` operator has different actions for strings and for ints.\n",
    "\n",
    "So, when you encounter an unfamiliar object in the course of writing python code, instead of throwing spaghetti at the wall and seeing what sticks, it can be helpful to get to know the object better, in particular by asking what its `type` and, if applicable, `shape` is, as well as what attributes it has. This approach is similar how you might get to know a new friend, by asking the name, where the person is from, what the person does---you would not start by randomly guessing different names for a new person!"
   ]
  },
  {
   "cell_type": "markdown",
   "metadata": {
    "id": "QFw2t_y4rRlO"
   },
   "source": [
    "#### Problem 5.1.1\n",
    "\n",
    "What is the type of `\"number:\"`? What is the type of `7`? What is the type of `A` from Problem 2.4?\n",
    "\n",
    "Use the `type` function explicitly to answer this question."
   ]
  },
  {
   "cell_type": "code",
   "execution_count": null,
   "metadata": {
    "id": "lXQTMUD8rWIZ"
   },
   "outputs": [],
   "source": [
    "# TODO: your code and answers here"
   ]
  },
  {
   "cell_type": "markdown",
   "metadata": {
    "id": "6aE31chFsGXs"
   },
   "source": [
    "#### Problem 5.1.2\n",
    "\n",
    "What are the shapes of `\"number:\"` and `7` and `A`? Can you give an intuitive reason why some types have shapes and other don't?\n",
    "\n",
    "Call `.shape` on the above objects explicitly to answer this question"
   ]
  },
  {
   "cell_type": "code",
   "execution_count": null,
   "metadata": {
    "id": "ZPk8Qq-stE9X"
   },
   "outputs": [],
   "source": [
    "# TODO: your code and answers here"
   ]
  },
  {
   "cell_type": "markdown",
   "metadata": {
    "id": "mxijsQ1KsnT8"
   },
   "source": [
    "#### Problem 5.1.3\n",
    "\n",
    "Call `dir` on the three objects\n",
    "* `\"number:`\n",
    "* `7`\n",
    "* `A`\n",
    "\n",
    "Describe what you notice. For each of the three objects, try out one of the methods that you get from calling `dir`. Does it have the behavior you would expect from the name? Describe why or why not."
   ]
  },
  {
   "cell_type": "code",
   "execution_count": null,
   "metadata": {
    "id": "Veo1dU-lsvTu"
   },
   "outputs": [],
   "source": [
    "# TODO: your code and answers here"
   ]
  },
  {
   "cell_type": "markdown",
   "metadata": {
    "id": "qKBor21yorx8"
   },
   "source": [
    "### Problem 5.2: `pdb`\n"
   ]
  },
  {
   "cell_type": "markdown",
   "metadata": {
    "id": "dmip3nSARKtO"
   },
   "source": [
    "#### Problem 5.2.1: `%debug`\n",
    "\n",
    "The `%` denotes a magic command, which opens up commands that are not in standard python, but are added by [IPython](https://ipython.org/), which is short for \"Interactive Python\" and is the backbone of JuPyter notebooks and colabs.\n",
    "\n",
    "If you run a cell that returns an Error, in the very next cell you can just type `%debug` and then run the cell (Shft + Enter), and you open up a python debugger at the very point where the error was raised. Then, you can interactively investigate the values (as well as types and shapes) of the variables that were in and before the line that led to the crash. You can navigate through the debugger with these [commands](https://web.stanford.edu/class/physics91si/2013/handouts/Pdb_Commands.pdf)\n",
    "\n",
    "Try running the following code (which has a bug). When it errors out, run `%debug` in the next cell. In the `ipd>` console, find the shapes of both `tensor_a` and `tensor_b` by asking for their shape, and explain why the code does't work. Exit the debugger with `quit()`."
   ]
  },
  {
   "cell_type": "code",
   "execution_count": null,
   "metadata": {
    "id": "IjSRNM0CoAyP"
   },
   "outputs": [],
   "source": [
    "# BUGGY CODE\n",
    "tensor_a = torch.randn(2, 2)\n",
    "tensor_b = torch.randn(3, 2)\n",
    "result = tensor_a @ tensor_b"
   ]
  },
  {
   "cell_type": "markdown",
   "metadata": {
    "id": "7SwVdFX4RVJQ"
   },
   "source": [
    "#### Problem 5.2.2: `breakpoint()`\n",
    "\n",
    "Sometimes the bug can be more subtle, either not causing any error messages or having the bug be introduced many lines before the error is raised. In these situations, it can be helpful to add a `breakpoint()` to your code.\n",
    "\n",
    "**Add a `breakpoint()` anywhere to the code snippet in Problem 5.2.1, and confirm that you can still print types, shapes, and values, and navigate using `pdb` commands.**"
   ]
  },
  {
   "cell_type": "markdown",
   "metadata": {
    "id": "3cXZXAc9BMJo"
   },
   "source": [
    "### Problem 5.3: Debugging Linear Regression\n",
    "\n",
    "Below is some buggy code for fitting linear regression on synthetic data that we will use to practice other debugging techniques"
   ]
  },
  {
   "cell_type": "code",
   "execution_count": null,
   "metadata": {
    "id": "ARquDrQoCXl4"
   },
   "outputs": [],
   "source": [
    "#BUGGY CODE\n",
    "# generate synthetic data\n",
    "torch.manual_seed(305)\n",
    "n = 100_000\n",
    "p = 3\n",
    "X = torch.hstack([torch.ones((n,1)), torch.randn(n, p)])\n",
    "beta_true = torch.randn(p+1)\n",
    "y = X @ beta_true + torch.randn(n)\n",
    "\n",
    "# set up logistic regression\n",
    "loss_fn = torch.nn.MSELoss()\n",
    "beta_hat = torch.randn(p+1, requires_grad=True)\n",
    "\n",
    "learning_rate = 2.\n",
    "num_iterations = 100\n",
    "\n",
    "losses = []\n",
    "# Gradient Descent\n",
    "for i in range(num_iterations):\n",
    "    # Forward pass\n",
    "    y_pred = X @ beta_hat\n",
    "\n",
    "    # Compute and print loss\n",
    "    loss = loss_fn(y_pred, y)\n",
    "    losses.append(loss.item())\n",
    "\n",
    "    # Zero the gradients before running the backward pass\n",
    "    beta_hat.grad = None\n",
    "\n",
    "    # Backward pass\n",
    "    loss.backward()\n",
    "\n",
    "    # Update weights using gradient descent\n",
    "    with torch.no_grad():\n",
    "        beta_hat += (learning_rate / (i+1)) * beta_hat.grad\n",
    "\n",
    "# The final parameters after training\n",
    "beta_final = beta_hat.detach()"
   ]
  },
  {
   "cell_type": "markdown",
   "metadata": {
    "id": "iqIDvCHeMeUv"
   },
   "source": [
    "#### Problem 5.3.1: `assert` and `torch.allclose`\n",
    "\n",
    "In the above code snippet, we would like to recover the true value `beta_true` of the linear regression coefficients in our final value `beta_final`. One way to check if two vectors are close each other is to use `torch.allclose`, which will return `True` if the two vectors have each corresponding element within `atol` of each other. One way to do this programatically is with an `assert`, which raises an error if the condition following it not true.\n",
    "\n",
    "**Edit the above code snippet by adding an assert which checks if `beta_true` and `beta_final` are within a margin of `1e-2` elementwise.**"
   ]
  },
  {
   "cell_type": "markdown",
   "metadata": {
    "id": "rjxDEJhUQYdn"
   },
   "source": [
    "#### Problem 5.3.2: f-strings\n",
    "\n",
    "It can be useful for debugging to print output, which can be done very cleanly using [f-strings](https://docs.python.org/3/tutorial/inputoutput.html) (the \"f\" stands for \"formatted\"). In particular, the second argument to an assert (after the boolean expression) can be a string that is printed if the boolean is `False`.\n",
    "\n",
    "**Modify your assert so that if `beta_true` and `beta_final` are not true, their values are printed with a descrption of what they are, using f-strings for easy comparison.**"
   ]
  },
  {
   "cell_type": "markdown",
   "metadata": {
    "id": "e3O5DUOdN5VM"
   },
   "source": [
    "#### Problem 5.3.3: plotting\n",
    "\n",
    "Use `matplotlib.pyplot`, which was imported in the very first cell as `plt`, to plot the lossess in the above code snippet. What do you notice about the losses? Does this clue you into the location of the bug? Fix the bug in the code snippet above."
   ]
  },
  {
   "cell_type": "markdown",
   "metadata": {
    "id": "O3ub34YLOmRU"
   },
   "source": [
    "#### Problem 5.3.4: progress bars\n",
    "\n",
    "It's extremely nice to know how long code is going to take to run. One easy way to add this is to wrap for loops (like in the above code snippet) with progress bars. Probably the easiest way to do this is with the `tqdm` package, which can be as as easy as:\n",
    "\n",
    "```\n",
    "from tqdm import tqdm\n",
    "\n",
    "for i in tqdm(range(10)):\n",
    "  print(i)\n",
    "```\n",
    "\n",
    "**Add a progress bar to the above code snippet.**"
   ]
  },
  {
   "cell_type": "markdown",
   "metadata": {
    "id": "28pxqQ2iPVOV"
   },
   "source": [
    "#### Problem 5.3.5: timing\n",
    "\n",
    "Often want your code to run quickly when you are prototyping. How might you modify the above code snippet to run faster when you are just prototyping? Note that because you are \"prototyping,\" your \"quick-and-dirty\" solution doesn't need to satisfy the asserts you set up in Problem 5.3.1. \n",
    "\n",
    "But, **DO** confirm that your approach is fater by using `%%time`. Report your findings."
   ]
  },
  {
   "cell_type": "markdown",
   "metadata": {
    "id": "lyXoLDrcXr8w"
   },
   "source": [
    "TODO: your summary of your timing experiments"
   ]
  },
  {
   "cell_type": "markdown",
   "metadata": {
    "id": "mdpBT3XOtc79"
   },
   "source": [
    "## 6. More resources\n",
    "\n",
    "1. [CME 193: Introduction to Scientific Python](https://web.stanford.edu/class/cme193/)\n",
    "\n",
    "An excellent 1-unit introduction to Python. Meets Wednesdays 11:30-12:30 in winter quarter. Strongly recommend concurrent enrollment if you are new to python.\n",
    "\n",
    "2. [MIT's missing semester](https://missing.csail.mit.edu/)\n",
    "\n",
    "An excellent introduction to software tools. While not directly related to Stats 305B, the tools reviewed in this series will make you a more confident programmer."
   ]
  },
  {
   "cell_type": "markdown",
   "metadata": {
    "id": "1St9qRMLDcEu"
   },
   "source": [
    "## 7. Submission Instructions\n",
    "\n",
    "**Formatting:** check that your code does not exceed 80 characters in line width. You can set _Tools &rarr; Settings &rarr; Editor &rarr; Vertical ruler column_ to 80 to see when you've exceeded the limit.\n",
    "\n",
    "**Converting to PDF** The simplest way to convert to PDF is to use the \"Print to PDF\" option in your browser. Just make sure that your code and plots aren't cut off, as it may not wrap lines.\n",
    "\n",
    "**Alternatively** You can download your notebook in .ipynb format and use the following commands to convert it to PDF.  Then run the following command to convert to a PDF:\n",
    "```\n",
    "jupyter nbconvert --to pdf <yourlastname>_hw<number>.ipynb\n",
    "```\n",
    "(Note that for the above code to work, you need to rename your file `<yourlastname>_hw<number>.ipynb`)\n",
    "\n",
    "**Installing nbconvert:**\n",
    "\n",
    "If you're using Anaconda for package management,\n",
    "```\n",
    "conda install -c anaconda nbconvert\n",
    "```\n",
    "\n",
    "**Upload** your .pdf file to Gradescope. Please tag your questions correctly! I.E., for each question, all of and only the relevant sections are tagged.\n",
    "\n",
    "Please post on Ed or come to OH if there are any other problems submitting the HW."
   ]
  }
 ],
 "metadata": {
  "colab": {
   "provenance": [],
   "toc_visible": true
  },
  "kernelspec": {
   "display_name": "Python 3 (ipykernel)",
   "language": "python",
   "name": "python3"
  },
  "language_info": {
   "codemirror_mode": {
    "name": "ipython",
    "version": 3
   },
   "file_extension": ".py",
   "mimetype": "text/x-python",
   "name": "python",
   "nbconvert_exporter": "python",
   "pygments_lexer": "ipython3",
   "version": "3.10.9"
  },
  "vscode": {
   "interpreter": {
    "hash": "5b28c5bd4ee93d765ebe901023d5522822fb8ad083dac3187c5545022f913719"
   }
  }
 },
 "nbformat": 4,
 "nbformat_minor": 4
}
